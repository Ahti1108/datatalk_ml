{
 "cells": [
  {
   "cell_type": "code",
   "execution_count": 46,
   "metadata": {},
   "outputs": [],
   "source": [
    "import pandas as pd\n",
    "import numpy as np\n",
    "from sklearn.model_selection import train_test_split\n",
    "from sklearn.feature_extraction import DictVectorizer\n",
    "from sklearn.linear_model import LogisticRegression\n",
    "from sklearn.metrics import auc\n",
    "from sklearn.metrics import roc_auc_score\n",
    "from sklearn.metrics import accuracy_score\n",
    "import matplotlib.pyplot as plt\n",
    "from sklearn.model_selection import KFold\n",
    "from tqdm.auto import tqdm"
   ]
  },
  {
   "cell_type": "code",
   "execution_count": 2,
   "metadata": {},
   "outputs": [
    {
     "data": {
      "text/html": [
       "<div>\n",
       "<style scoped>\n",
       "    .dataframe tbody tr th:only-of-type {\n",
       "        vertical-align: middle;\n",
       "    }\n",
       "\n",
       "    .dataframe tbody tr th {\n",
       "        vertical-align: top;\n",
       "    }\n",
       "\n",
       "    .dataframe thead th {\n",
       "        text-align: right;\n",
       "    }\n",
       "</style>\n",
       "<table border=\"1\" class=\"dataframe\">\n",
       "  <thead>\n",
       "    <tr style=\"text-align: right;\">\n",
       "      <th></th>\n",
       "      <th>status</th>\n",
       "      <th>seniority</th>\n",
       "      <th>home</th>\n",
       "      <th>time</th>\n",
       "      <th>age</th>\n",
       "      <th>marital</th>\n",
       "      <th>records</th>\n",
       "      <th>job</th>\n",
       "      <th>expenses</th>\n",
       "      <th>income</th>\n",
       "      <th>assets</th>\n",
       "      <th>debt</th>\n",
       "      <th>amount</th>\n",
       "      <th>price</th>\n",
       "    </tr>\n",
       "  </thead>\n",
       "  <tbody>\n",
       "    <tr>\n",
       "      <th>0</th>\n",
       "      <td>1</td>\n",
       "      <td>9</td>\n",
       "      <td>1</td>\n",
       "      <td>60</td>\n",
       "      <td>30</td>\n",
       "      <td>2</td>\n",
       "      <td>1</td>\n",
       "      <td>3</td>\n",
       "      <td>73</td>\n",
       "      <td>129</td>\n",
       "      <td>0</td>\n",
       "      <td>0</td>\n",
       "      <td>800</td>\n",
       "      <td>846</td>\n",
       "    </tr>\n",
       "    <tr>\n",
       "      <th>1</th>\n",
       "      <td>1</td>\n",
       "      <td>17</td>\n",
       "      <td>1</td>\n",
       "      <td>60</td>\n",
       "      <td>58</td>\n",
       "      <td>3</td>\n",
       "      <td>1</td>\n",
       "      <td>1</td>\n",
       "      <td>48</td>\n",
       "      <td>131</td>\n",
       "      <td>0</td>\n",
       "      <td>0</td>\n",
       "      <td>1000</td>\n",
       "      <td>1658</td>\n",
       "    </tr>\n",
       "    <tr>\n",
       "      <th>2</th>\n",
       "      <td>2</td>\n",
       "      <td>10</td>\n",
       "      <td>2</td>\n",
       "      <td>36</td>\n",
       "      <td>46</td>\n",
       "      <td>2</td>\n",
       "      <td>2</td>\n",
       "      <td>3</td>\n",
       "      <td>90</td>\n",
       "      <td>200</td>\n",
       "      <td>3000</td>\n",
       "      <td>0</td>\n",
       "      <td>2000</td>\n",
       "      <td>2985</td>\n",
       "    </tr>\n",
       "    <tr>\n",
       "      <th>3</th>\n",
       "      <td>1</td>\n",
       "      <td>0</td>\n",
       "      <td>1</td>\n",
       "      <td>60</td>\n",
       "      <td>24</td>\n",
       "      <td>1</td>\n",
       "      <td>1</td>\n",
       "      <td>1</td>\n",
       "      <td>63</td>\n",
       "      <td>182</td>\n",
       "      <td>2500</td>\n",
       "      <td>0</td>\n",
       "      <td>900</td>\n",
       "      <td>1325</td>\n",
       "    </tr>\n",
       "    <tr>\n",
       "      <th>4</th>\n",
       "      <td>1</td>\n",
       "      <td>0</td>\n",
       "      <td>1</td>\n",
       "      <td>36</td>\n",
       "      <td>26</td>\n",
       "      <td>1</td>\n",
       "      <td>1</td>\n",
       "      <td>1</td>\n",
       "      <td>46</td>\n",
       "      <td>107</td>\n",
       "      <td>0</td>\n",
       "      <td>0</td>\n",
       "      <td>310</td>\n",
       "      <td>910</td>\n",
       "    </tr>\n",
       "  </tbody>\n",
       "</table>\n",
       "</div>"
      ],
      "text/plain": [
       "   status  seniority  home  time  age  marital  records  job  expenses  \\\n",
       "0       1          9     1    60   30        2        1    3        73   \n",
       "1       1         17     1    60   58        3        1    1        48   \n",
       "2       2         10     2    36   46        2        2    3        90   \n",
       "3       1          0     1    60   24        1        1    1        63   \n",
       "4       1          0     1    36   26        1        1    1        46   \n",
       "\n",
       "   income  assets  debt  amount  price  \n",
       "0     129       0     0     800    846  \n",
       "1     131       0     0    1000   1658  \n",
       "2     200    3000     0    2000   2985  \n",
       "3     182    2500     0     900   1325  \n",
       "4     107       0     0     310    910  "
      ]
     },
     "execution_count": 2,
     "metadata": {},
     "output_type": "execute_result"
    }
   ],
   "source": [
    "df = pd.read_csv('CreditScore.csv')\n",
    "df.columns = df.columns.str.lower()\n",
    "df.head()"
   ]
  },
  {
   "cell_type": "code",
   "execution_count": 3,
   "metadata": {},
   "outputs": [],
   "source": [
    "status_values = {\n",
    "    1: 'ok',\n",
    "    2: 'default',\n",
    "    0: 'unk'\n",
    "}\n",
    "\n",
    "df.status = df.status.map(status_values)\n",
    "\n",
    "\n",
    "home_values = {\n",
    "    1: 'rent',\n",
    "    2: 'owner',\n",
    "    3: 'private',\n",
    "    4: 'ignore',\n",
    "    5: 'parents',\n",
    "    6: 'other',\n",
    "    0: 'unk'\n",
    "}\n",
    "\n",
    "df.home = df.home.map(home_values)\n",
    "\n",
    "marital_values = {\n",
    "    1: 'single',\n",
    "    2: 'married',\n",
    "    3: 'widow',\n",
    "    4: 'separated',\n",
    "    5: 'divorced',\n",
    "    0: 'unk'\n",
    "}\n",
    "\n",
    "df.marital = df.marital.map(marital_values)\n",
    "\n",
    "records_values = {\n",
    "    1: 'no',\n",
    "    2: 'yes',\n",
    "    0: 'unk'\n",
    "}\n",
    "\n",
    "df.records = df.records.map(records_values)\n",
    "\n",
    "job_values = {\n",
    "    1: 'fixed',\n",
    "    2: 'partime',\n",
    "    3: 'freelance',\n",
    "    4: 'others',\n",
    "    0: 'unk'\n",
    "}\n",
    "\n",
    "df.job = df.job.map(job_values)"
   ]
  },
  {
   "cell_type": "code",
   "execution_count": 4,
   "metadata": {},
   "outputs": [],
   "source": [
    "for c in ['income', 'assets', 'debt']:\n",
    "    df[c] = df[c].replace(to_replace=99999999, value=0)"
   ]
  },
  {
   "cell_type": "code",
   "execution_count": 5,
   "metadata": {},
   "outputs": [],
   "source": [
    "df = df[df.status != 'unk'].reset_index(drop=True)"
   ]
  },
  {
   "cell_type": "code",
   "execution_count": 6,
   "metadata": {},
   "outputs": [],
   "source": [
    "df['default'] = (df.status == 'default').astype(int)\n",
    "del df['status']"
   ]
  },
  {
   "cell_type": "code",
   "execution_count": 7,
   "metadata": {},
   "outputs": [
    {
     "data": {
      "text/plain": [
       "seniority     int64\n",
       "home         object\n",
       "time          int64\n",
       "age           int64\n",
       "marital      object\n",
       "records      object\n",
       "job          object\n",
       "expenses      int64\n",
       "income        int64\n",
       "assets        int64\n",
       "debt          int64\n",
       "amount        int64\n",
       "price         int64\n",
       "default       int32\n",
       "dtype: object"
      ]
     },
     "execution_count": 7,
     "metadata": {},
     "output_type": "execute_result"
    }
   ],
   "source": [
    "df.dtypes"
   ]
  },
  {
   "cell_type": "code",
   "execution_count": 8,
   "metadata": {},
   "outputs": [],
   "source": [
    "df_full_train, df_test = train_test_split(df, test_size=0.2, random_state=1)\n",
    "df_train, df_val = train_test_split(df_full_train, test_size=0.25, random_state=1)\n",
    "\n",
    "df_train = df_train.reset_index(drop=True)\n",
    "df_val = df_val.reset_index(drop=True)\n",
    "df_test = df_test.reset_index(drop=True)"
   ]
  },
  {
   "cell_type": "code",
   "execution_count": 9,
   "metadata": {},
   "outputs": [],
   "source": [
    "y_train = df_train.default.values\n",
    "y_val = df_val.default.values\n",
    "y_test = df_test.default.values\n",
    "\n",
    "del df_train['default']\n",
    "del df_val['default']\n",
    "del df_test['default']"
   ]
  },
  {
   "cell_type": "code",
   "execution_count": null,
   "metadata": {},
   "outputs": [],
   "source": []
  },
  {
   "cell_type": "markdown",
   "metadata": {},
   "source": [
    "## 1\n",
    "\n",
    "ROC AUC could also be used to evaluate feature importance of numerical variables.\n",
    "\n",
    "Let's do that\n",
    "\n",
    "* For each numerical variable, use it as score and compute AUC with the `default` variable\n",
    "* Use the training dataset for that\n",
    "\n",
    "If your AUC is < 0.5, invert this variable by putting \"-\" in front\n",
    "\n",
    "(e.g `-df_train['expenses']`)\n",
    "\n",
    "AUC can go below 0.5 if the variable is negatively correlated with the target varialble. You can change the direction of the correlation by negating this variab* `le - then negative correlation becomes positive.\n",
    "\n",
    "Which numerical variable (among the following 4) has the highest AUC?\n",
    "\n",
    "* `seniority`\n",
    "* `time`\n",
    "* `income`\n",
    "* `debt`"
   ]
  },
  {
   "cell_type": "code",
   "execution_count": null,
   "metadata": {},
   "outputs": [],
   "source": []
  },
  {
   "cell_type": "code",
   "execution_count": null,
   "metadata": {},
   "outputs": [],
   "source": []
  },
  {
   "cell_type": "code",
   "execution_count": null,
   "metadata": {},
   "outputs": [],
   "source": []
  },
  {
   "cell_type": "markdown",
   "metadata": {},
   "source": [
    "## Question 2\n",
    "\n",
    "Use only: `['seniority', 'income', 'assets', 'records', 'job', 'home']`\n",
    "\n",
    "`LogisticRegression(solver='liblinear', C=1.0, max_iter=1000)`\n",
    "\n",
    "What's the AUC of this model on the validation dataset? (round to 3 digits)\n",
    "\n",
    "* 0.512\n",
    "* 0.612\n",
    "* 0.712\n",
    "* 0.812"
   ]
  },
  {
   "cell_type": "code",
   "execution_count": 10,
   "metadata": {},
   "outputs": [
    {
     "data": {
      "text/plain": [
       "seniority     int64\n",
       "home         object\n",
       "time          int64\n",
       "age           int64\n",
       "marital      object\n",
       "records      object\n",
       "job          object\n",
       "expenses      int64\n",
       "income        int64\n",
       "assets        int64\n",
       "debt          int64\n",
       "amount        int64\n",
       "price         int64\n",
       "default       int32\n",
       "dtype: object"
      ]
     },
     "execution_count": 10,
     "metadata": {},
     "output_type": "execute_result"
    }
   ],
   "source": [
    "df.dtypes"
   ]
  },
  {
   "cell_type": "code",
   "execution_count": 11,
   "metadata": {},
   "outputs": [],
   "source": [
    "numerical = ['seniority', 'income', 'assets']\n",
    "categorical = ['job', 'records']"
   ]
  },
  {
   "cell_type": "code",
   "execution_count": 12,
   "metadata": {},
   "outputs": [
    {
     "data": {
      "text/plain": [
       "LogisticRegression(C=1.0, class_weight=None, dual=False, fit_intercept=True,\n",
       "                   intercept_scaling=1, l1_ratio=None, max_iter=1000,\n",
       "                   multi_class='warn', n_jobs=None, penalty='l2',\n",
       "                   random_state=None, solver='liblinear', tol=0.0001, verbose=0,\n",
       "                   warm_start=False)"
      ]
     },
     "execution_count": 12,
     "metadata": {},
     "output_type": "execute_result"
    }
   ],
   "source": [
    "dv = DictVectorizer(sparse=False)\n",
    "train_dict = df_train[numerical + categorical].to_dict(orient='records')\n",
    "X_train = dv.fit_transform(train_dict)\n",
    "\n",
    "model = LogisticRegression(solver='liblinear', C=1.0, max_iter=1000)\n",
    "model.fit(X_train, y_train)"
   ]
  },
  {
   "cell_type": "code",
   "execution_count": 13,
   "metadata": {},
   "outputs": [
    {
     "data": {
      "text/plain": [
       "0.7631874298540965"
      ]
     },
     "execution_count": 13,
     "metadata": {},
     "output_type": "execute_result"
    }
   ],
   "source": [
    "val_dict = df_val[numerical + categorical].to_dict(orient='records')\n",
    "X_val = dv.transform(val_dict)\n",
    "\n",
    "y_pred = model.predict_proba(X_val)[:, 1]\n",
    "status_dec = (y_pred >= 0.5)\n",
    "(y_val == status_dec).mean()"
   ]
  },
  {
   "cell_type": "markdown",
   "metadata": {},
   "source": [
    "#### Confusion Table"
   ]
  },
  {
   "cell_type": "code",
   "execution_count": 14,
   "metadata": {},
   "outputs": [],
   "source": [
    "actual_pos = (y_val == 1)\n",
    "actual_neg = (y_val == 0)"
   ]
  },
  {
   "cell_type": "code",
   "execution_count": 15,
   "metadata": {},
   "outputs": [],
   "source": [
    "t = 0.5\n",
    "pred_pos = (y_pred >= t)\n",
    "pred_neg = (y_pred < t)"
   ]
  },
  {
   "cell_type": "code",
   "execution_count": 16,
   "metadata": {},
   "outputs": [],
   "source": [
    "tp = (pred_pos & actual_pos).sum()\n",
    "tn = (pred_neg & actual_neg).sum()"
   ]
  },
  {
   "cell_type": "code",
   "execution_count": 17,
   "metadata": {},
   "outputs": [],
   "source": [
    "fp = (pred_pos & actual_neg).sum()\n",
    "fn = (pred_neg & actual_pos).sum()"
   ]
  },
  {
   "cell_type": "code",
   "execution_count": 18,
   "metadata": {},
   "outputs": [
    {
     "data": {
      "text/plain": [
       "(66, 145)"
      ]
     },
     "execution_count": 18,
     "metadata": {},
     "output_type": "execute_result"
    }
   ],
   "source": [
    "fp, fn"
   ]
  },
  {
   "cell_type": "code",
   "execution_count": 19,
   "metadata": {},
   "outputs": [
    {
     "data": {
      "text/plain": [
       "(101, 579)"
      ]
     },
     "execution_count": 19,
     "metadata": {},
     "output_type": "execute_result"
    }
   ],
   "source": [
    "tp, tn"
   ]
  },
  {
   "cell_type": "code",
   "execution_count": 20,
   "metadata": {},
   "outputs": [
    {
     "data": {
      "text/plain": [
       "array([[579,  66],\n",
       "       [145, 101]])"
      ]
     },
     "execution_count": 20,
     "metadata": {},
     "output_type": "execute_result"
    }
   ],
   "source": [
    "confusion_matrix = np.array([\n",
    "    [tn, fp],\n",
    "    [fn, tp]\n",
    "])\n",
    "confusion_matrix"
   ]
  },
  {
   "cell_type": "code",
   "execution_count": 21,
   "metadata": {},
   "outputs": [
    {
     "data": {
      "text/plain": [
       "array([[0.65 , 0.074],\n",
       "       [0.163, 0.113]])"
      ]
     },
     "execution_count": 21,
     "metadata": {},
     "output_type": "execute_result"
    }
   ],
   "source": [
    "(confusion_matrix / confusion_matrix.sum()).round(3)"
   ]
  },
  {
   "cell_type": "code",
   "execution_count": 22,
   "metadata": {},
   "outputs": [
    {
     "data": {
      "text/plain": [
       "0.7977973151824541"
      ]
     },
     "execution_count": 22,
     "metadata": {},
     "output_type": "execute_result"
    }
   ],
   "source": [
    "roc_auc_score(y_val, y_pred)"
   ]
  },
  {
   "cell_type": "code",
   "execution_count": null,
   "metadata": {},
   "outputs": [],
   "source": []
  },
  {
   "cell_type": "markdown",
   "metadata": {},
   "source": [
    "## Question 3\n",
    "\n",
    "Now let's compute precision and recall for our model.\n",
    "\n",
    "* Evaluate the model on all thresholds from 0.0 to 1.0 with step 0.01\n",
    "* For each threshold, compute precision and recall\n",
    "* Plot them"
   ]
  },
  {
   "cell_type": "code",
   "execution_count": 23,
   "metadata": {},
   "outputs": [
    {
     "data": {
      "text/plain": [
       "0.4105691056910569"
      ]
     },
     "execution_count": 23,
     "metadata": {},
     "output_type": "execute_result"
    }
   ],
   "source": [
    "r = tp / (tp + fn)\n",
    "r"
   ]
  },
  {
   "cell_type": "code",
   "execution_count": 24,
   "metadata": {},
   "outputs": [
    {
     "data": {
      "text/plain": [
       "0.6047904191616766"
      ]
     },
     "execution_count": 24,
     "metadata": {},
     "output_type": "execute_result"
    }
   ],
   "source": [
    "p = tp / (tp + fp)\n",
    "p"
   ]
  },
  {
   "cell_type": "code",
   "execution_count": 25,
   "metadata": {},
   "outputs": [
    {
     "name": "stdout",
     "output_type": "stream",
     "text": [
      "0.00 0.276\n",
      "0.01 0.288\n",
      "0.02 0.302\n",
      "0.03 0.323\n",
      "0.04 0.347\n",
      "0.05 0.373\n",
      "0.06 0.400\n",
      "0.07 0.418\n",
      "0.08 0.441\n",
      "0.09 0.458\n",
      "0.10 0.485\n",
      "0.11 0.504\n",
      "0.12 0.524\n",
      "0.13 0.540\n",
      "0.14 0.556\n",
      "0.15 0.563\n",
      "0.16 0.582\n",
      "0.17 0.602\n",
      "0.18 0.611\n",
      "0.19 0.623\n",
      "0.20 0.639\n",
      "0.21 0.650\n",
      "0.22 0.666\n",
      "0.23 0.677\n",
      "0.24 0.695\n",
      "0.25 0.701\n",
      "0.26 0.709\n",
      "0.27 0.715\n",
      "0.28 0.717\n",
      "0.29 0.728\n",
      "0.30 0.738\n",
      "0.31 0.746\n",
      "0.32 0.751\n",
      "0.33 0.753\n",
      "0.34 0.754\n",
      "0.35 0.762\n",
      "0.36 0.767\n",
      "0.37 0.764\n",
      "0.38 0.771\n",
      "0.39 0.778\n",
      "0.40 0.779\n",
      "0.41 0.776\n",
      "0.42 0.777\n",
      "0.43 0.779\n",
      "0.44 0.776\n",
      "0.45 0.768\n",
      "0.46 0.772\n",
      "0.47 0.773\n",
      "0.48 0.769\n",
      "0.49 0.764\n",
      "0.50 0.763\n",
      "0.51 0.759\n",
      "0.52 0.761\n",
      "0.53 0.761\n",
      "0.54 0.763\n",
      "0.55 0.761\n",
      "0.56 0.758\n",
      "0.57 0.761\n",
      "0.58 0.762\n",
      "0.59 0.762\n",
      "0.60 0.760\n",
      "0.61 0.755\n",
      "0.62 0.755\n",
      "0.63 0.758\n",
      "0.64 0.750\n",
      "0.65 0.750\n",
      "0.66 0.750\n",
      "0.67 0.746\n",
      "0.68 0.744\n",
      "0.69 0.744\n",
      "0.70 0.742\n",
      "0.71 0.741\n",
      "0.72 0.741\n",
      "0.73 0.741\n",
      "0.74 0.741\n",
      "0.75 0.740\n",
      "0.76 0.740\n",
      "0.77 0.737\n",
      "0.78 0.735\n",
      "0.79 0.734\n",
      "0.80 0.733\n",
      "0.81 0.734\n",
      "0.82 0.734\n",
      "0.83 0.734\n",
      "0.84 0.734\n",
      "0.85 0.735\n",
      "0.86 0.734\n",
      "0.87 0.733\n",
      "0.88 0.731\n",
      "0.89 0.727\n",
      "0.90 0.724\n",
      "0.91 0.725\n",
      "0.92 0.724\n",
      "0.93 0.724\n",
      "0.94 0.724\n",
      "0.95 0.724\n",
      "0.96 0.724\n",
      "0.97 0.724\n",
      "0.98 0.724\n",
      "0.99 0.724\n",
      "1.00 0.724\n"
     ]
    }
   ],
   "source": [
    "thresholds = np.linspace(0, 1, 101)\n",
    "\n",
    "scores = []\n",
    "\n",
    "for t in thresholds:\n",
    "    score = accuracy_score(y_val, y_pred >= t)\n",
    "    print('%.2f %.3f' %(t, score))\n",
    "    scores.append(score)"
   ]
  },
  {
   "cell_type": "code",
   "execution_count": 26,
   "metadata": {},
   "outputs": [],
   "source": [
    "scores = []\n",
    "\n",
    "thresholds = np.linspace(0, 1, 101)\n",
    "\n",
    "for t in thresholds:\n",
    "    # evaluate actual_negative and actual_positive\n",
    "    # confusion table\n",
    "    actual_positive = (y_val == 1)\n",
    "    actual_negative = (y_val == 0)\n",
    "    \n",
    "    predict_positive = (y_pred >= t)\n",
    "    predict_negative = (y_pred < t)\n",
    "    \n",
    "    tp = (predict_positive & actual_positive).sum()\n",
    "    tn = (predict_negative & actual_negative).sum()\n",
    "    \n",
    "    fp = (predict_positive & actual_negative).sum()\n",
    "    fn = (predict_negative & actual_positive).sum()\n",
    "    \n",
    "    scores.append((t, tp, fp, fn, tn))"
   ]
  },
  {
   "cell_type": "code",
   "execution_count": 27,
   "metadata": {},
   "outputs": [
    {
     "data": {
      "text/plain": [
       "[(0.0, 246, 645, 0, 0),\n",
       " (0.01, 246, 634, 0, 11),\n",
       " (0.02, 244, 620, 2, 25),\n",
       " (0.03, 242, 599, 4, 46),\n",
       " (0.04, 240, 576, 6, 69),\n",
       " (0.05, 238, 551, 8, 94),\n",
       " (0.06, 236, 525, 10, 120),\n",
       " (0.07, 236, 509, 10, 136),\n",
       " (0.08, 235, 487, 11, 158),\n",
       " (0.09, 232, 469, 14, 176),\n",
       " (0.1, 232, 445, 14, 200),\n",
       " (0.11, 231, 427, 15, 218),\n",
       " (0.12, 230, 408, 16, 237),\n",
       " (0.13, 230, 394, 16, 251),\n",
       " (0.14, 229, 379, 17, 266),\n",
       " (0.15, 227, 370, 19, 275),\n",
       " (0.16, 224, 350, 22, 295),\n",
       " (0.17, 223, 332, 23, 313),\n",
       " (0.18, 219, 320, 27, 325),\n",
       " (0.19, 217, 307, 29, 338),\n",
       " (0.2, 215, 291, 31, 354),\n",
       " (0.21, 212, 278, 34, 367),\n",
       " (0.22, 210, 262, 36, 383),\n",
       " (0.23, 207, 249, 39, 396),\n",
       " (0.24, 207, 233, 39, 412),\n",
       " (0.25, 204, 224, 42, 421),\n",
       " (0.26, 200, 213, 46, 432),\n",
       " (0.27, 194, 202, 52, 443),\n",
       " (0.28, 190, 196, 56, 449),\n",
       " (0.29, 185, 181, 61, 464),\n",
       " (0.3, 181, 168, 65, 477),\n",
       " (0.31, 176, 156, 70, 489),\n",
       " (0.32, 174, 150, 72, 495),\n",
       " (0.33, 168, 142, 78, 503),\n",
       " (0.34, 166, 139, 80, 506),\n",
       " (0.35000000000000003, 164, 130, 82, 515),\n",
       " (0.36, 160, 122, 86, 523),\n",
       " (0.37, 157, 121, 89, 524),\n",
       " (0.38, 156, 114, 90, 531),\n",
       " (0.39, 155, 107, 91, 538),\n",
       " (0.4, 151, 102, 95, 543),\n",
       " (0.41000000000000003, 147, 101, 99, 544),\n",
       " (0.42, 144, 97, 102, 548),\n",
       " (0.43, 141, 92, 105, 553),\n",
       " (0.44, 136, 90, 110, 555),\n",
       " (0.45, 129, 90, 117, 555),\n",
       " (0.46, 125, 82, 121, 563),\n",
       " (0.47000000000000003, 121, 77, 125, 568),\n",
       " (0.48, 115, 75, 131, 570),\n",
       " (0.49, 107, 71, 139, 574),\n",
       " (0.5, 101, 66, 145, 579),\n",
       " (0.51, 96, 65, 150, 580),\n",
       " (0.52, 96, 63, 150, 582),\n",
       " (0.53, 93, 60, 153, 585),\n",
       " (0.54, 90, 55, 156, 590),\n",
       " (0.55, 86, 53, 160, 592),\n",
       " (0.56, 81, 51, 165, 594),\n",
       " (0.5700000000000001, 81, 48, 165, 597),\n",
       " (0.58, 78, 44, 168, 601),\n",
       " (0.59, 75, 41, 171, 604),\n",
       " (0.6, 70, 38, 176, 607),\n",
       " (0.61, 64, 36, 182, 609),\n",
       " (0.62, 61, 33, 185, 612),\n",
       " (0.63, 56, 26, 190, 619),\n",
       " (0.64, 46, 23, 200, 622),\n",
       " (0.65, 43, 20, 203, 625),\n",
       " (0.66, 41, 18, 205, 627),\n",
       " (0.67, 36, 16, 210, 629),\n",
       " (0.68, 34, 16, 212, 629),\n",
       " (0.6900000000000001, 31, 13, 215, 632),\n",
       " (0.7000000000000001, 29, 13, 217, 632),\n",
       " (0.71, 28, 13, 218, 632),\n",
       " (0.72, 27, 12, 219, 633),\n",
       " (0.73, 25, 10, 221, 635),\n",
       " (0.74, 24, 9, 222, 636),\n",
       " (0.75, 23, 9, 223, 636),\n",
       " (0.76, 21, 7, 225, 638),\n",
       " (0.77, 19, 7, 227, 638),\n",
       " (0.78, 17, 7, 229, 638),\n",
       " (0.79, 16, 7, 230, 638),\n",
       " (0.8, 15, 7, 231, 638),\n",
       " (0.81, 15, 6, 231, 639),\n",
       " (0.8200000000000001, 15, 6, 231, 639),\n",
       " (0.8300000000000001, 15, 6, 231, 639),\n",
       " (0.84, 13, 4, 233, 641),\n",
       " (0.85, 13, 3, 233, 642),\n",
       " (0.86, 11, 2, 235, 643),\n",
       " (0.87, 10, 2, 236, 643),\n",
       " (0.88, 7, 1, 239, 644),\n",
       " (0.89, 4, 1, 242, 644),\n",
       " (0.9, 1, 1, 245, 644),\n",
       " (0.91, 1, 0, 245, 645),\n",
       " (0.92, 0, 0, 246, 645),\n",
       " (0.93, 0, 0, 246, 645),\n",
       " (0.9400000000000001, 0, 0, 246, 645),\n",
       " (0.9500000000000001, 0, 0, 246, 645),\n",
       " (0.96, 0, 0, 246, 645),\n",
       " (0.97, 0, 0, 246, 645),\n",
       " (0.98, 0, 0, 246, 645),\n",
       " (0.99, 0, 0, 246, 645),\n",
       " (1.0, 0, 0, 246, 645)]"
      ]
     },
     "execution_count": 27,
     "metadata": {},
     "output_type": "execute_result"
    }
   ],
   "source": [
    "scores"
   ]
  },
  {
   "cell_type": "code",
   "execution_count": 28,
   "metadata": {},
   "outputs": [
    {
     "data": {
      "text/html": [
       "<div>\n",
       "<style scoped>\n",
       "    .dataframe tbody tr th:only-of-type {\n",
       "        vertical-align: middle;\n",
       "    }\n",
       "\n",
       "    .dataframe tbody tr th {\n",
       "        vertical-align: top;\n",
       "    }\n",
       "\n",
       "    .dataframe thead th {\n",
       "        text-align: right;\n",
       "    }\n",
       "</style>\n",
       "<table border=\"1\" class=\"dataframe\">\n",
       "  <thead>\n",
       "    <tr style=\"text-align: right;\">\n",
       "      <th></th>\n",
       "      <th>threshold</th>\n",
       "      <th>tp</th>\n",
       "      <th>fp</th>\n",
       "      <th>fn</th>\n",
       "      <th>tn</th>\n",
       "    </tr>\n",
       "  </thead>\n",
       "  <tbody>\n",
       "    <tr>\n",
       "      <th>0</th>\n",
       "      <td>0.00</td>\n",
       "      <td>246</td>\n",
       "      <td>645</td>\n",
       "      <td>0</td>\n",
       "      <td>0</td>\n",
       "    </tr>\n",
       "    <tr>\n",
       "      <th>1</th>\n",
       "      <td>0.01</td>\n",
       "      <td>246</td>\n",
       "      <td>634</td>\n",
       "      <td>0</td>\n",
       "      <td>11</td>\n",
       "    </tr>\n",
       "    <tr>\n",
       "      <th>2</th>\n",
       "      <td>0.02</td>\n",
       "      <td>244</td>\n",
       "      <td>620</td>\n",
       "      <td>2</td>\n",
       "      <td>25</td>\n",
       "    </tr>\n",
       "    <tr>\n",
       "      <th>3</th>\n",
       "      <td>0.03</td>\n",
       "      <td>242</td>\n",
       "      <td>599</td>\n",
       "      <td>4</td>\n",
       "      <td>46</td>\n",
       "    </tr>\n",
       "    <tr>\n",
       "      <th>4</th>\n",
       "      <td>0.04</td>\n",
       "      <td>240</td>\n",
       "      <td>576</td>\n",
       "      <td>6</td>\n",
       "      <td>69</td>\n",
       "    </tr>\n",
       "  </tbody>\n",
       "</table>\n",
       "</div>"
      ],
      "text/plain": [
       "   threshold   tp   fp  fn  tn\n",
       "0       0.00  246  645   0   0\n",
       "1       0.01  246  634   0  11\n",
       "2       0.02  244  620   2  25\n",
       "3       0.03  242  599   4  46\n",
       "4       0.04  240  576   6  69"
      ]
     },
     "execution_count": 28,
     "metadata": {},
     "output_type": "execute_result"
    }
   ],
   "source": [
    "columns = ['threshold', 'tp', 'fp', 'fn', 'tn']\n",
    "df_scores = pd.DataFrame(scores, columns = columns)\n",
    "df_scores.head()"
   ]
  },
  {
   "cell_type": "code",
   "execution_count": 29,
   "metadata": {},
   "outputs": [],
   "source": [
    "df_scores['tpr'] = df_scores.tp / (df_scores.tp + df_scores.fn)\n",
    "df_scores['fpr'] = df_scores.fp / (df_scores.fp + df_scores.tn)"
   ]
  },
  {
   "cell_type": "code",
   "execution_count": 30,
   "metadata": {},
   "outputs": [
    {
     "data": {
      "text/html": [
       "<div>\n",
       "<style scoped>\n",
       "    .dataframe tbody tr th:only-of-type {\n",
       "        vertical-align: middle;\n",
       "    }\n",
       "\n",
       "    .dataframe tbody tr th {\n",
       "        vertical-align: top;\n",
       "    }\n",
       "\n",
       "    .dataframe thead th {\n",
       "        text-align: right;\n",
       "    }\n",
       "</style>\n",
       "<table border=\"1\" class=\"dataframe\">\n",
       "  <thead>\n",
       "    <tr style=\"text-align: right;\">\n",
       "      <th></th>\n",
       "      <th>threshold</th>\n",
       "      <th>tp</th>\n",
       "      <th>fp</th>\n",
       "      <th>fn</th>\n",
       "      <th>tn</th>\n",
       "      <th>tpr</th>\n",
       "      <th>fpr</th>\n",
       "    </tr>\n",
       "  </thead>\n",
       "  <tbody>\n",
       "    <tr>\n",
       "      <th>0</th>\n",
       "      <td>0.00</td>\n",
       "      <td>246</td>\n",
       "      <td>645</td>\n",
       "      <td>0</td>\n",
       "      <td>0</td>\n",
       "      <td>1.00000</td>\n",
       "      <td>1.000000</td>\n",
       "    </tr>\n",
       "    <tr>\n",
       "      <th>1</th>\n",
       "      <td>0.01</td>\n",
       "      <td>246</td>\n",
       "      <td>634</td>\n",
       "      <td>0</td>\n",
       "      <td>11</td>\n",
       "      <td>1.00000</td>\n",
       "      <td>0.982946</td>\n",
       "    </tr>\n",
       "    <tr>\n",
       "      <th>2</th>\n",
       "      <td>0.02</td>\n",
       "      <td>244</td>\n",
       "      <td>620</td>\n",
       "      <td>2</td>\n",
       "      <td>25</td>\n",
       "      <td>0.99187</td>\n",
       "      <td>0.961240</td>\n",
       "    </tr>\n",
       "    <tr>\n",
       "      <th>3</th>\n",
       "      <td>0.03</td>\n",
       "      <td>242</td>\n",
       "      <td>599</td>\n",
       "      <td>4</td>\n",
       "      <td>46</td>\n",
       "      <td>0.98374</td>\n",
       "      <td>0.928682</td>\n",
       "    </tr>\n",
       "    <tr>\n",
       "      <th>4</th>\n",
       "      <td>0.04</td>\n",
       "      <td>240</td>\n",
       "      <td>576</td>\n",
       "      <td>6</td>\n",
       "      <td>69</td>\n",
       "      <td>0.97561</td>\n",
       "      <td>0.893023</td>\n",
       "    </tr>\n",
       "  </tbody>\n",
       "</table>\n",
       "</div>"
      ],
      "text/plain": [
       "   threshold   tp   fp  fn  tn      tpr       fpr\n",
       "0       0.00  246  645   0   0  1.00000  1.000000\n",
       "1       0.01  246  634   0  11  1.00000  0.982946\n",
       "2       0.02  244  620   2  25  0.99187  0.961240\n",
       "3       0.03  242  599   4  46  0.98374  0.928682\n",
       "4       0.04  240  576   6  69  0.97561  0.893023"
      ]
     },
     "execution_count": 30,
     "metadata": {},
     "output_type": "execute_result"
    }
   ],
   "source": [
    "df_scores.head()"
   ]
  },
  {
   "cell_type": "code",
   "execution_count": 31,
   "metadata": {},
   "outputs": [
    {
     "data": {
      "image/png": "[encoded data removed]",
      "text/plain": [
       "<Figure size 432x288 with 1 Axes>"
      ]
     },
     "metadata": {
      "needs_background": "light"
     },
     "output_type": "display_data"
    }
   ],
   "source": [
    "plt.plot(df_scores.threshold, df_scores['tpr'], label='TPR')\n",
    "plt.plot(df_scores.threshold, df_scores['fpr'], label='FPR')\n",
    "plt.legend()\n",
    "plt.show()"
   ]
  },
  {
   "cell_type": "code",
   "execution_count": null,
   "metadata": {},
   "outputs": [],
   "source": []
  },
  {
   "cell_type": "markdown",
   "metadata": {},
   "source": [
    "## Question 4\n",
    "\n",
    "Precision and recall are conflicting - when one grows, the other goes down. That's why they are often combined into the F1 score - a metrics that takes into account both\n",
    "\n",
    "This is the formula for computing F1:\n",
    "\n",
    "`F1 = 2 * P * R / (P + R)`\n",
    "\n",
    "Where P is precision and R is recall.\n",
    "\n",
    "Let's compute F1 for all thresholds from 0.0 to 1.0 with increment 0.01\n",
    "\n",
    "At which threshold F1 is maximal?\n",
    "\n",
    "* 0.1\n",
    "* 0.3\n",
    "* 0.5\n",
    "* 0.7"
   ]
  },
  {
   "cell_type": "code",
   "execution_count": 32,
   "metadata": {},
   "outputs": [
    {
     "name": "stderr",
     "output_type": "stream",
     "text": [
      "C:\\Users\\njtol\\Anaconda3\\lib\\site-packages\\ipykernel_launcher.py:20: RuntimeWarning: invalid value encountered in long_scalars\n"
     ]
    }
   ],
   "source": [
    "scores = []\n",
    "\n",
    "thresholds = np.linspace(0, 1, 101)\n",
    "\n",
    "for t in thresholds:\n",
    "    # evaluate actual_negative and actual_positive\n",
    "    # confusion table\n",
    "    actual_positive = (y_val == 1)\n",
    "    actual_negative = (y_val == 0)\n",
    "    \n",
    "    predict_positive = (y_pred >= t)\n",
    "    predict_negative = (y_pred < t)\n",
    "    \n",
    "    tp = (predict_positive & actual_positive).sum()\n",
    "    tn = (predict_negative & actual_negative).sum()\n",
    "    \n",
    "    fp = (predict_positive & actual_negative).sum()\n",
    "    fn = (predict_negative & actual_positive).sum()\n",
    "    \n",
    "    p = tp / (tp + fp)\n",
    "    r = tp / (tp + fn)\n",
    "    \n",
    "    f1 = (2 * p * r) / (p + r)\n",
    "    \n",
    "    scores.append((t, tp, fp, fn, tn, f1))"
   ]
  },
  {
   "cell_type": "code",
   "execution_count": 33,
   "metadata": {},
   "outputs": [
    {
     "data": {
      "text/plain": [
       "[(0.0, 246, 645, 0, 0, 0.43271767810026385),\n",
       " (0.01, 246, 634, 0, 11, 0.4369449378330373),\n",
       " (0.02, 244, 620, 2, 25, 0.43963963963963965),\n",
       " (0.03, 242, 599, 4, 46, 0.4452621895124196),\n",
       " (0.04, 240, 576, 6, 69, 0.45197740112994345),\n",
       " (0.05, 238, 551, 8, 94, 0.4599033816425121),\n",
       " (0.06, 236, 525, 10, 120, 0.4687189672293942),\n",
       " (0.07, 236, 509, 10, 136, 0.4762865792129163),\n",
       " (0.08, 235, 487, 11, 158, 0.4855371900826447),\n",
       " (0.09, 232, 469, 14, 176, 0.4899683210137276),\n",
       " (0.1, 232, 445, 14, 200, 0.5027085590465872),\n",
       " (0.11, 231, 427, 15, 218, 0.5110619469026549),\n",
       " (0.12, 230, 408, 16, 237, 0.5203619909502263),\n",
       " (0.13, 230, 394, 16, 251, 0.5287356321839081),\n",
       " (0.14, 229, 379, 17, 266, 0.5362997658079625),\n",
       " (0.15, 227, 370, 19, 275, 0.5385527876631079),\n",
       " (0.16, 224, 350, 22, 295, 0.5463414634146342),\n",
       " (0.17, 223, 332, 23, 313, 0.5568039950062422),\n",
       " (0.18, 219, 320, 27, 325, 0.5579617834394904),\n",
       " (0.19, 217, 307, 29, 338, 0.5636363636363636),\n",
       " (0.2, 215, 291, 31, 354, 0.5718085106382979),\n",
       " (0.21, 212, 278, 34, 367, 0.5760869565217391),\n",
       " (0.22, 210, 262, 36, 383, 0.5849582172701949),\n",
       " (0.23, 207, 249, 39, 396, 0.5897435897435899),\n",
       " (0.24, 207, 233, 39, 412, 0.6034985422740524),\n",
       " (0.25, 204, 224, 42, 421, 0.6053412462908012),\n",
       " (0.26, 200, 213, 46, 432, 0.6069802731411229),\n",
       " (0.27, 194, 202, 52, 443, 0.604361370716511),\n",
       " (0.28, 190, 196, 56, 449, 0.6012658227848101),\n",
       " (0.29, 185, 181, 61, 464, 0.6045751633986928),\n",
       " (0.3, 181, 168, 65, 477, 0.6084033613445378),\n",
       " (0.31, 176, 156, 70, 489, 0.6089965397923875),\n",
       " (0.32, 174, 150, 72, 495, 0.6105263157894738),\n",
       " (0.33, 168, 142, 78, 503, 0.60431654676259),\n",
       " (0.34, 166, 139, 80, 506, 0.6025408348457351),\n",
       " (0.35000000000000003, 164, 130, 82, 515, 0.6074074074074073),\n",
       " (0.36, 160, 122, 86, 523, 0.6060606060606061),\n",
       " (0.37, 157, 121, 89, 524, 0.5992366412213741),\n",
       " (0.38, 156, 114, 90, 531, 0.6046511627906976),\n",
       " (0.39, 155, 107, 91, 538, 0.6102362204724411),\n",
       " (0.4, 151, 102, 95, 543, 0.6052104208416833),\n",
       " (0.41000000000000003, 147, 101, 99, 544, 0.5951417004048583),\n",
       " (0.42, 144, 97, 102, 548, 0.5913757700205339),\n",
       " (0.43, 141, 92, 105, 553, 0.5887265135699373),\n",
       " (0.44, 136, 90, 110, 555, 0.576271186440678),\n",
       " (0.45, 129, 90, 117, 555, 0.5548387096774193),\n",
       " (0.46, 125, 82, 121, 563, 0.5518763796909492),\n",
       " (0.47000000000000003, 121, 77, 125, 568, 0.545045045045045),\n",
       " (0.48, 115, 75, 131, 570, 0.5275229357798165),\n",
       " (0.49, 107, 71, 139, 574, 0.5047169811320754),\n",
       " (0.5, 101, 66, 145, 579, 0.4891041162227603),\n",
       " (0.51, 96, 65, 150, 580, 0.47174447174447176),\n",
       " (0.52, 96, 63, 150, 582, 0.4740740740740741),\n",
       " (0.53, 93, 60, 153, 585, 0.46616541353383456),\n",
       " (0.54, 90, 55, 156, 590, 0.4603580562659847),\n",
       " (0.55, 86, 53, 160, 592, 0.4467532467532468),\n",
       " (0.56, 81, 51, 165, 594, 0.4285714285714286),\n",
       " (0.5700000000000001, 81, 48, 165, 597, 0.43199999999999994),\n",
       " (0.58, 78, 44, 168, 601, 0.42391304347826086),\n",
       " (0.59, 75, 41, 171, 604, 0.4143646408839779),\n",
       " (0.6, 70, 38, 176, 607, 0.39548022598870053),\n",
       " (0.61, 64, 36, 182, 609, 0.369942196531792),\n",
       " (0.62, 61, 33, 185, 612, 0.3588235294117647),\n",
       " (0.63, 56, 26, 190, 619, 0.3414634146341463),\n",
       " (0.64, 46, 23, 200, 622, 0.292063492063492),\n",
       " (0.65, 43, 20, 203, 625, 0.2783171521035599),\n",
       " (0.66, 41, 18, 205, 627, 0.26885245901639343),\n",
       " (0.67, 36, 16, 210, 629, 0.24161073825503354),\n",
       " (0.68, 34, 16, 212, 629, 0.22972972972972974),\n",
       " (0.6900000000000001, 31, 13, 215, 632, 0.21379310344827587),\n",
       " (0.7000000000000001, 29, 13, 217, 632, 0.2013888888888889),\n",
       " (0.71, 28, 13, 218, 632, 0.1951219512195122),\n",
       " (0.72, 27, 12, 219, 633, 0.1894736842105263),\n",
       " (0.73, 25, 10, 221, 635, 0.1779359430604982),\n",
       " (0.74, 24, 9, 222, 636, 0.17204301075268819),\n",
       " (0.75, 23, 9, 223, 636, 0.16546762589928057),\n",
       " (0.76, 21, 7, 225, 638, 0.15328467153284672),\n",
       " (0.77, 19, 7, 227, 638, 0.13970588235294118),\n",
       " (0.78, 17, 7, 229, 638, 0.12592592592592594),\n",
       " (0.79, 16, 7, 230, 638, 0.11895910780669146),\n",
       " (0.8, 15, 7, 231, 638, 0.1119402985074627),\n",
       " (0.81, 15, 6, 231, 639, 0.11235955056179776),\n",
       " (0.8200000000000001, 15, 6, 231, 639, 0.11235955056179776),\n",
       " (0.8300000000000001, 15, 6, 231, 639, 0.11235955056179776),\n",
       " (0.84, 13, 4, 233, 641, 0.09885931558935362),\n",
       " (0.85, 13, 3, 233, 642, 0.09923664122137404),\n",
       " (0.86, 11, 2, 235, 643, 0.08494208494208495),\n",
       " (0.87, 10, 2, 236, 643, 0.07751937984496124),\n",
       " (0.88, 7, 1, 239, 644, 0.05511811023622047),\n",
       " (0.89, 4, 1, 242, 644, 0.03187250996015937),\n",
       " (0.9, 1, 1, 245, 644, 0.00806451612903226),\n",
       " (0.91, 1, 0, 245, 645, 0.008097165991902834),\n",
       " (0.92, 0, 0, 246, 645, nan),\n",
       " (0.93, 0, 0, 246, 645, nan),\n",
       " (0.9400000000000001, 0, 0, 246, 645, nan),\n",
       " (0.9500000000000001, 0, 0, 246, 645, nan),\n",
       " (0.96, 0, 0, 246, 645, nan),\n",
       " (0.97, 0, 0, 246, 645, nan),\n",
       " (0.98, 0, 0, 246, 645, nan),\n",
       " (0.99, 0, 0, 246, 645, nan),\n",
       " (1.0, 0, 0, 246, 645, nan)]"
      ]
     },
     "execution_count": 33,
     "metadata": {},
     "output_type": "execute_result"
    }
   ],
   "source": [
    "scores"
   ]
  },
  {
   "cell_type": "code",
   "execution_count": 34,
   "metadata": {},
   "outputs": [
    {
     "data": {
      "text/html": [
       "<div>\n",
       "<style scoped>\n",
       "    .dataframe tbody tr th:only-of-type {\n",
       "        vertical-align: middle;\n",
       "    }\n",
       "\n",
       "    .dataframe tbody tr th {\n",
       "        vertical-align: top;\n",
       "    }\n",
       "\n",
       "    .dataframe thead th {\n",
       "        text-align: right;\n",
       "    }\n",
       "</style>\n",
       "<table border=\"1\" class=\"dataframe\">\n",
       "  <thead>\n",
       "    <tr style=\"text-align: right;\">\n",
       "      <th></th>\n",
       "      <th>threshold</th>\n",
       "      <th>tp</th>\n",
       "      <th>fp</th>\n",
       "      <th>fn</th>\n",
       "      <th>tn</th>\n",
       "      <th>f1</th>\n",
       "    </tr>\n",
       "  </thead>\n",
       "  <tbody>\n",
       "    <tr>\n",
       "      <th>0</th>\n",
       "      <td>0.00</td>\n",
       "      <td>246</td>\n",
       "      <td>645</td>\n",
       "      <td>0</td>\n",
       "      <td>0</td>\n",
       "      <td>0.432718</td>\n",
       "    </tr>\n",
       "    <tr>\n",
       "      <th>1</th>\n",
       "      <td>0.01</td>\n",
       "      <td>246</td>\n",
       "      <td>634</td>\n",
       "      <td>0</td>\n",
       "      <td>11</td>\n",
       "      <td>0.436945</td>\n",
       "    </tr>\n",
       "    <tr>\n",
       "      <th>2</th>\n",
       "      <td>0.02</td>\n",
       "      <td>244</td>\n",
       "      <td>620</td>\n",
       "      <td>2</td>\n",
       "      <td>25</td>\n",
       "      <td>0.439640</td>\n",
       "    </tr>\n",
       "    <tr>\n",
       "      <th>3</th>\n",
       "      <td>0.03</td>\n",
       "      <td>242</td>\n",
       "      <td>599</td>\n",
       "      <td>4</td>\n",
       "      <td>46</td>\n",
       "      <td>0.445262</td>\n",
       "    </tr>\n",
       "    <tr>\n",
       "      <th>4</th>\n",
       "      <td>0.04</td>\n",
       "      <td>240</td>\n",
       "      <td>576</td>\n",
       "      <td>6</td>\n",
       "      <td>69</td>\n",
       "      <td>0.451977</td>\n",
       "    </tr>\n",
       "  </tbody>\n",
       "</table>\n",
       "</div>"
      ],
      "text/plain": [
       "   threshold   tp   fp  fn  tn        f1\n",
       "0       0.00  246  645   0   0  0.432718\n",
       "1       0.01  246  634   0  11  0.436945\n",
       "2       0.02  244  620   2  25  0.439640\n",
       "3       0.03  242  599   4  46  0.445262\n",
       "4       0.04  240  576   6  69  0.451977"
      ]
     },
     "execution_count": 34,
     "metadata": {},
     "output_type": "execute_result"
    }
   ],
   "source": [
    "columns = ['threshold', 'tp', 'fp', 'fn', 'tn', 'f1']\n",
    "df_scores = pd.DataFrame(scores, columns = columns)\n",
    "df_scores.head()"
   ]
  },
  {
   "cell_type": "markdown",
   "metadata": {},
   "source": [
    "Answer is 0.3"
   ]
  },
  {
   "cell_type": "code",
   "execution_count": null,
   "metadata": {},
   "outputs": [],
   "source": []
  },
  {
   "cell_type": "markdown",
   "metadata": {},
   "source": [
    "## Question 5\n",
    "\n",
    "Use the `KFold` class from Scikit-Learn to evaluate our model on 5 different folds:\n",
    "\n",
    "`KFold(n_splits=5, shuffle=True, random_state=1)`\n",
    "\n",
    "\n",
    "* Iterate over different folds of df_full_train\n",
    "* Split the data into train and validation\n",
    "* Train the model on train with these parameters: `LogisticRegression(solver='liblinear', C=1.0, max_iter=1000)`\n",
    "* Use AUC to evaluate the model on validation\n",
    "\n",
    "How large is standard devidation of the AUC scores across different folds?\n",
    "\n",
    "* 0.001\n",
    "* 0.014\n",
    "* 0.09\n",
    "* 0.14"
   ]
  },
  {
   "cell_type": "code",
   "execution_count": 35,
   "metadata": {},
   "outputs": [],
   "source": [
    "def train(df_train, y):\n",
    "    dicts = df_train[categorical + numerical].to_dict(orient='records')\n",
    "    \n",
    "    dv = DictVectorizer(sparse=False)\n",
    "    X_train = dv.fit_transform(dicts)\n",
    "    \n",
    "    model = LogisticRegression(solver='lbfgs')\n",
    "    model.fit(X_train, y_train)\n",
    "    \n",
    "    return dv, model"
   ]
  },
  {
   "cell_type": "code",
   "execution_count": 36,
   "metadata": {},
   "outputs": [],
   "source": [
    "dv, model = train(df_train, y_train)"
   ]
  },
  {
   "cell_type": "code",
   "execution_count": 37,
   "metadata": {},
   "outputs": [],
   "source": [
    "def predict(df, dv, model):\n",
    "    dicts = df[categorical + numerical].to_dict(orient='records')\n",
    "    # create feature matrix\n",
    "    X = dv.transform(dicts)\n",
    "    y_pred = model.predict_proba(X)[:, 1]\n",
    "    \n",
    "    return y_pred"
   ]
  },
  {
   "cell_type": "code",
   "execution_count": 38,
   "metadata": {},
   "outputs": [],
   "source": [
    "y_pred = predict(df_val, dv, model)"
   ]
  },
  {
   "cell_type": "code",
   "execution_count": 41,
   "metadata": {},
   "outputs": [],
   "source": [
    "kfold = KFold(n_splits=5, shuffle=True, random_state=1)"
   ]
  },
  {
   "cell_type": "code",
   "execution_count": 42,
   "metadata": {},
   "outputs": [],
   "source": [
    "train_idx, val_idx = next(kfold.split(df_full_train))"
   ]
  },
  {
   "cell_type": "code",
   "execution_count": 43,
   "metadata": {},
   "outputs": [],
   "source": [
    "df_train = df_full_train.iloc[train_idx]\n",
    "df_val = df_full_train.iloc[val_idx]"
   ]
  },
  {
   "cell_type": "code",
   "execution_count": 44,
   "metadata": {},
   "outputs": [],
   "source": [
    "scores = []\n",
    "\n",
    "for train_idx, val_idx in kfold.split(df_full_train):\n",
    "    df_train = df_full_train.iloc[train_idx]\n",
    "    df_val = df_full_train.iloc[val_idx]\n",
    "    \n",
    "    y_train = df_train.default.values\n",
    "    y_val = df_val.default.values\n",
    "    \n",
    "    dv, model = train(df_train, y_train)\n",
    "    y_pred = predict(df_val, dv, model)\n",
    "    \n",
    "    auc = roc_auc_score(y_val, y_pred)\n",
    "    scores.append(auc)"
   ]
  },
  {
   "cell_type": "code",
   "execution_count": 45,
   "metadata": {},
   "outputs": [
    {
     "name": "stdout",
     "output_type": "stream",
     "text": [
      "0.800 +- 0.018\n"
     ]
    }
   ],
   "source": [
    "print('%.3f +- %.3f' % (np.mean(scores), np.std(scores)))"
   ]
  },
  {
   "cell_type": "markdown",
   "metadata": {},
   "source": [
    "## Question 6\n",
    "\n",
    "Now let's use 5-Fold cross-validation to find the best parameter C\n",
    "\n",
    "* Iterate over the following C values: `[0.01, 0.1, 1, 10]`\n",
    "* Initialize KFold with the same parameters as previously\n",
    "* Use these parametes for the model: `LogisticRegression(solver='liblinear', C=C, max_iter=1000)`\n",
    "* Compute the mean score as well as the std (round the mean and std to 3 decimal digits)\n",
    "\n",
    "Which C leads to the best mean score?\n",
    "\n",
    "* 0.01\n",
    "* 0.1\n",
    "* 1\n",
    "* 10\n",
    "\n",
    "If you have ties, select the score with the lowest std. If you still have ties, select the smallest `C`"
   ]
  },
  {
   "cell_type": "code",
   "execution_count": 47,
   "metadata": {},
   "outputs": [],
   "source": [
    "def train(df_train, y_train, C=1.0):\n",
    "    dicts = df_train[categorical + numerical].to_dict(orient='records')\n",
    "\n",
    "    dv = DictVectorizer(sparse=False)\n",
    "    X_train = dv.fit_transform(dicts)\n",
    "\n",
    "    model = LogisticRegression(solver='liblinear', C=C, max_iter=1000)\n",
    "    model.fit(X_train, y_train)\n",
    "    \n",
    "    return dv, model"
   ]
  },
  {
   "cell_type": "code",
   "execution_count": 48,
   "metadata": {},
   "outputs": [],
   "source": [
    "dv, model = train(df_train, y_train, C=0.001)"
   ]
  },
  {
   "cell_type": "code",
   "execution_count": 49,
   "metadata": {},
   "outputs": [],
   "source": [
    "def predict(df, dv, model):\n",
    "    dicts = df[categorical + numerical].to_dict(orient='records')\n",
    "\n",
    "    X = dv.transform(dicts)\n",
    "    y_pred = model.predict_proba(X)[:, 1]\n",
    "\n",
    "    return y_pred"
   ]
  },
  {
   "cell_type": "code",
   "execution_count": 50,
   "metadata": {},
   "outputs": [],
   "source": [
    "y_pred = predict(df_val, dv, model)"
   ]
  },
  {
   "cell_type": "code",
   "execution_count": 52,
   "metadata": {},
   "outputs": [
    {
     "data": {
      "application/vnd.jupyter.widget-view+json": {
       "model_id": "ce08afc404c9439baeab464117a14760",
       "version_major": 2,
       "version_minor": 0
      },
      "text/plain": [
       "HBox(children=(IntProgress(value=0, max=7), HTML(value='')))"
      ]
     },
     "metadata": {},
     "output_type": "display_data"
    },
    {
     "name": "stdout",
     "output_type": "stream",
     "text": [
      "C=0.001 0.763 +- 0.009\n",
      "C=0.01 0.799 +- 0.014\n",
      "C=0.1 0.803 +- 0.016\n",
      "C=0.5 0.802 +- 0.017\n",
      "C=1 0.803 +- 0.016\n",
      "C=5 0.803 +- 0.016\n",
      "C=10 0.802 +- 0.017\n",
      "\n"
     ]
    }
   ],
   "source": [
    "n_splits = 5\n",
    "\n",
    "for C in tqdm([0.001, 0.01, 0.1, 0.5, 1, 5, 10]):\n",
    "    kfold = KFold(n_splits=n_splits, shuffle=True, random_state=1)\n",
    "\n",
    "    scores = []\n",
    "\n",
    "    for train_idx, val_idx in kfold.split(df_full_train):\n",
    "        df_train = df_full_train.iloc[train_idx]\n",
    "        df_val = df_full_train.iloc[val_idx]\n",
    "\n",
    "        y_train = df_train.default.values\n",
    "        y_val = df_val.default.values\n",
    "\n",
    "        dv, model = train(df_train, y_train, C=C)\n",
    "        y_pred = predict(df_val, dv, model)\n",
    "\n",
    "        auc = roc_auc_score(y_val, y_pred)\n",
    "        scores.append(auc)\n",
    "\n",
    "    print('C=%s %.3f +- %.3f' % (C, np.mean(scores), np.std(scores)))"
   ]
  },
  {
   "cell_type": "code",
   "execution_count": null,
   "metadata": {},
   "outputs": [],
   "source": []
  }
 ],
 "metadata": {
  "kernelspec": {
   "display_name": "Python 3",
   "language": "python",
   "name": "python3"
  },
  "language_info": {
   "codemirror_mode": {
    "name": "ipython",
    "version": 3
   },
   "file_extension": ".py",
   "mimetype": "text/x-python",
   "name": "python",
   "nbconvert_exporter": "python",
   "pygments_lexer": "ipython3",
   "version": "3.7.3"
  }
 },
 "nbformat": 4,
 "nbformat_minor": 2
}
